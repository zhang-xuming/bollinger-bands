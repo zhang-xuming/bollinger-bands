{
 "cells": [
  {
   "cell_type": "code",
   "execution_count": 1,
   "id": "43cbcf23",
   "metadata": {},
   "outputs": [],
   "source": [
    "import pandas as pd\n",
    "import numpy as np\n",
    "from plotly.graph_objs import *\n",
    "from pyecharts import options as opts\n",
    "from pyecharts.charts import Kline, Line, EffectScatter"
   ]
  },
  {
   "cell_type": "code",
   "execution_count": 2,
   "id": "7406ebaa",
   "metadata": {},
   "outputs": [],
   "source": [
    "df = pd.read_csv(\"BTC_daily.csv\")               # 可改为ETH_daily.csv\n",
    "df[\"Close_1_shift\"] = df[\"Close\"].shift(1) \n",
    "K = 2                                           # K倍标准差\n",
    "N = 20                                          # N日移动平均线"
   ]
  },
  {
   "cell_type": "code",
   "execution_count": 3,
   "id": "24f29ab4",
   "metadata": {},
   "outputs": [],
   "source": [
    "df[\"sma\"] = np.round(df[\"Close\"].rolling(N).mean(),4)\n",
    "df[\"stdev\"] = np.round(df[\"Close\"].rolling(N).std(),4) \n",
    "df[\"upband\"]  = np.round(df[\"sma\"] + K*df[\"stdev\"],4)\n",
    "df[\"downband\"] = np.round(df[\"sma\"] - K*df[\"stdev\"],4)"
   ]
  },
  {
   "cell_type": "code",
   "execution_count": 4,
   "id": "9d4d01f2",
   "metadata": {},
   "outputs": [],
   "source": [
    "money = [1000.0 for i in range(20)]  # initial money value in USDT\n",
    "crypto_value = [0 for i in range(20)]\n",
    "crypto = 0 \n",
    "fees = 0.001           # fees as 0.1%\n",
    "positions = []  \n",
    "success_history = []  \n",
    "failure_history = []  \n"
   ]
  },
  {
   "cell_type": "code",
   "execution_count": 5,
   "id": "b1fad618",
   "metadata": {},
   "outputs": [],
   "source": [
    "#布林通道顺势策略\n",
    "\n",
    "for i in range(21, df.shape[0]):\n",
    "    if crypto == 0 and df[\"Close\"].iloc[i-1] > df[\"upband\"].iloc[i-1] and i != df.shape[0] - 1:     # 1.突破上轨线，建仓\n",
    "\n",
    "        price = (df[\"Close\"].iloc[i] + df[\"Open\"].iloc[i]) / 2.0\n",
    "        crypto = np.round(money[-1]*(1.0 - fees)/ price, 4)\n",
    "        crypto_value += [crypto*df[\"Close\"].iloc[i]]\n",
    "        money += [0]\n",
    "        positions += [{ \"date\": df.Date.iloc[i], \"price\": price}]\n",
    "        \n",
    "    elif crypto == 0:                                                                    # 2.空仓不动\n",
    "        money += [money[-1]]\n",
    "        crypto_value += [0]\n",
    "            \n",
    "    elif crypto > 0 and (df[\"Close\"].iloc[i-1] < df[\"downband\"].iloc[i-1] or i == df.shape[0] - 1 ):   # 3.突破下轨线，清仓       \n",
    "        \n",
    "        price = (df[\"Close\"].iloc[i] + df[\"Open\"].iloc[i]) / 2.0\n",
    "        money += [crypto * price *(1-fees)]\n",
    "        crypto = 0\n",
    "        crypto_value +=[0]\n",
    "        \n",
    "        if positions[-1][\"price\"] < price:\n",
    "            success_history += [\n",
    "                {\n",
    "                    \"date\": [positions[-1][\"date\"], df.Date.iloc[i]],\n",
    "                    \"price\": [positions[-1][\"price\"], price],\n",
    "                }\n",
    "            ]\n",
    "        else:\n",
    "            failure_history += [\n",
    "                {\n",
    "                    \"date\": [positions[-1][\"date\"], df.Date.iloc[i]],\n",
    "                    \"price\": [positions[-1][\"price\"], price],\n",
    "                }\n",
    "            ]\n",
    "        positions = []\n",
    "\n",
    "    elif crypto > 0:                                                             # 4.持仓不动\n",
    "        money += [0]\n",
    "        crypto_value += [crypto * df[\"Close\"].iloc[i]]\n"
   ]
  },
  {
   "cell_type": "code",
   "execution_count": 6,
   "id": "ca5fe2fb",
   "metadata": {},
   "outputs": [],
   "source": [
    "success_rate = 0\n",
    "if len(success_history) + len(failure_history) > 0:\n",
    "    success_rate = len(success_history) / (len(failure_history) + len(success_history))\n"
   ]
  },
  {
   "cell_type": "code",
   "execution_count": 7,
   "id": "2c9a77c3",
   "metadata": {},
   "outputs": [
    {
     "name": "stdout",
     "output_type": "stream",
     "text": [
      "--------------------------------------------------\n",
      "Benchmark 5583.640820180951\n",
      "Capital at the end 6472.19\n",
      "Accumulated return at the end 647.2186 %\n",
      "Win ratio 0.6666666666666666\n",
      "--------------------------------------------------\n",
      "Summary of % change in positions\n",
      "Percent change in position -3.08\n",
      "Percent change in position -9.27\n",
      "Percent change in position 41.7\n",
      "Percent change in position 353.69\n",
      "Percent change in position 9.88\n",
      "Percent change in position 5.36\n",
      "--------------------------------------------------\n",
      "Total trade times 6\n",
      "Average return per trade 66.38 %\n",
      "Max win 353.69 %\n",
      "Max loss -9.27 %\n"
     ]
    }
   ],
   "source": [
    "print(\"-\" * 50)\n",
    "print(\"Benchmark\",(df.Close.iloc[df.shape[0]-1]/df.Close.iloc[0]-1)*1000+1000)\n",
    "print(\"Capital at the end\", np.round(money[-1], 2))\n",
    "print(\"Accumulated return at the end\", np.round(money[-1]/money[0]*100, 4),\"%\")\n",
    "print(\"Win ratio\", success_rate )\n",
    "print(\"-\" * 50)\n",
    "print(\"Summary of % change in positions\")\n",
    "percent_change = []\n",
    "positions = []\n",
    "for h in [failure_history, success_history]:\n",
    "    for position in h:\n",
    "        percent_change.append(np.round((position[\"price\"][1] - position[\"price\"][0])/ position[\"price\"][0]* 100.0, 2,))\n",
    "        print(\"Percent change in position\", percent_change[-1])\n",
    "        positions += [position]\n",
    "        \n",
    "print(\"-\" * 50)\n",
    "print(\"Total trade times\", len(percent_change))\n",
    "print(\"Average return per trade\", np.round(sum(percent_change)/len(percent_change),2),\"%\")\n",
    "print(\"Max win\", max(percent_change),\"%\")\n",
    "print(\"Max loss\", min(percent_change),\"%\")"
   ]
  },
  {
   "cell_type": "code",
   "execution_count": 8,
   "id": "887e11d2",
   "metadata": {},
   "outputs": [
    {
     "data": {
      "text/plain": [
       "'F:\\\\jupyter\\\\p1_boll_1.html'"
      ]
     },
     "execution_count": 8,
     "metadata": {},
     "output_type": "execute_result"
    }
   ],
   "source": [
    "attr=[str(t) for t in df.Date]\n",
    "v1=np.array(df.loc[:,['Open','Close','Low','High']]).tolist()\n",
    "v2=np.array(df.sma).tolist()\n",
    "v3=np.array(df.upband).tolist()\n",
    "v4=np.array(df.downband).tolist()\n",
    "bd = [str(i[\"date\"][0]) for i in positions]\n",
    "sd = [str(i[\"date\"][1]) for i in positions]\n",
    "bp = [np.round((i[\"price\"][0]),2) for i in positions]\n",
    "sp = [np.round((i[\"price\"][1]),2) for i in positions]\n",
    "\n",
    "kline1 = (\n",
    "    Kline()\n",
    "    .add_xaxis(attr)\n",
    "    .add_yaxis(\"BTC\",v1)                        #标题BTC，如果使用ETH则改为ETH\n",
    "    .set_global_opts(\n",
    "        xaxis_opts=opts.AxisOpts(is_scale=True),\n",
    "        yaxis_opts=opts.AxisOpts(\n",
    "            is_scale=True,\n",
    "            splitarea_opts=opts.SplitAreaOpts(\n",
    "                is_show=True, areastyle_opts=opts.AreaStyleOpts(opacity=1)\n",
    "            ),\n",
    "        ),\n",
    "        datazoom_opts=[opts.DataZoomOpts(pos_bottom=\"-2%\")],\n",
    "        title_opts=opts.TitleOpts(title=\"boll_1\"),\n",
    "    ) \n",
    ")\n",
    "\n",
    "line1 = (\n",
    "    Line()\n",
    "    .add_xaxis(attr)\n",
    "    .add_yaxis(\"mid_line\",v2 , is_smooth = True,)\n",
    "    .add_yaxis(\"upband\",v3 , is_smooth = True,)\n",
    "    .add_yaxis(\"downband\",v4 , is_smooth = True,)\n",
    ")\n",
    "\n",
    "cb = (\n",
    "    EffectScatter()\n",
    "    .add_xaxis(bd)\n",
    "    .add_yaxis(\"Buy\", bp)\n",
    ")\n",
    "\n",
    "cs = (\n",
    "    EffectScatter()\n",
    "    .add_xaxis(sd)\n",
    "    .add_yaxis(\"Sell\", sp)\n",
    ")\n",
    "\n",
    "kline1.overlap(line1)\n",
    "kline1.overlap(cb)\n",
    "kline1.overlap(cs)\n",
    "kline1.render(\"p1_boll_1.html\")"
   ]
  },
  {
   "cell_type": "code",
   "execution_count": 9,
   "id": "4a97546a",
   "metadata": {
    "scrolled": true
   },
   "outputs": [
    {
     "data": {
      "text/plain": [
       "'F:\\\\jupyter\\\\p2_boll_1.html'"
      ]
     },
     "execution_count": 9,
     "metadata": {},
     "output_type": "execute_result"
    }
   ],
   "source": [
    "rtn = [np.round((crypto_value[i]+money[i])/money[0],4) for i in range(df.shape[0]-1)]\n",
    "ben = [np.round(j/df.Close.iloc[0],4) for j in df.Close]\n",
    "\n",
    "line2 = (\n",
    "    Line()\n",
    "    .add_xaxis(attr)\n",
    "    .add_yaxis(\"rtn\",rtn , is_smooth = True,)\n",
    "    .add_yaxis(\"ben\",ben , is_smooth = True,) \n",
    "    .set_global_opts(\n",
    "        xaxis_opts=opts.AxisOpts(is_scale=True),\n",
    "        yaxis_opts=opts.AxisOpts(\n",
    "            is_scale=True,\n",
    "            splitarea_opts=opts.SplitAreaOpts(\n",
    "                is_show=True, areastyle_opts=opts.AreaStyleOpts(opacity=1)\n",
    "            ),\n",
    "        ),\n",
    "        datazoom_opts=[opts.DataZoomOpts(pos_bottom=\"-2%\")],\n",
    "        title_opts=opts.TitleOpts(title=\"boll_1\"),\n",
    "    ) \n",
    ")\n",
    "line2.render(\"p2_boll_1.html\")"
   ]
  },
  {
   "cell_type": "code",
   "execution_count": null,
   "id": "9c26d386",
   "metadata": {},
   "outputs": [],
   "source": []
  }
 ],
 "metadata": {
  "kernelspec": {
   "display_name": "Python 3 (ipykernel)",
   "language": "python",
   "name": "python3"
  },
  "language_info": {
   "codemirror_mode": {
    "name": "ipython",
    "version": 3
   },
   "file_extension": ".py",
   "mimetype": "text/x-python",
   "name": "python",
   "nbconvert_exporter": "python",
   "pygments_lexer": "ipython3",
   "version": "3.9.7"
  }
 },
 "nbformat": 4,
 "nbformat_minor": 5
}
