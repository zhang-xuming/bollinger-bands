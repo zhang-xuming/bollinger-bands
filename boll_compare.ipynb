{
 "cells": [
  {
   "cell_type": "code",
   "execution_count": 1,
   "id": "43cbcf23",
   "metadata": {},
   "outputs": [],
   "source": [
    "import pandas as pd\n",
    "import numpy as np\n",
    "from plotly.graph_objs import *\n",
    "from pyecharts import options as opts\n",
    "from pyecharts.charts import Kline, Line"
   ]
  },
  {
   "cell_type": "code",
   "execution_count": 2,
   "id": "7406ebaa",
   "metadata": {},
   "outputs": [],
   "source": [
    "df = pd.read_csv(\"BTC_daily.csv\")               # 可改为ETH_daily.csv\n",
    "df[\"Close_1_shift\"] = df[\"Close\"].shift(1) \n",
    "K = 2                                           # K倍标准差\n",
    "N = 20                                          # N日移动平均线"
   ]
  },
  {
   "cell_type": "code",
   "execution_count": 3,
   "id": "24f29ab4",
   "metadata": {},
   "outputs": [],
   "source": [
    "df[\"sma\"] = np.round(df[\"Close\"].rolling(N).mean(),4)\n",
    "df[\"stdev\"] = np.round(df[\"Close\"].rolling(N).std(),4) \n",
    "df[\"upband\"]  = np.round(df[\"sma\"] + K*df[\"stdev\"],4)\n",
    "df[\"downband\"] = np.round(df[\"sma\"] - K*df[\"stdev\"],4)"
   ]
  },
  {
   "cell_type": "code",
   "execution_count": 4,
   "id": "b1fad618",
   "metadata": {},
   "outputs": [],
   "source": [
    "money = [1000.0 for i in range(20)]  # initial money value in USDT\n",
    "crypto_value = [0 for i in range(20)]\n",
    "crypto = 0 \n",
    "fees = 0.001           # fees as 0.1%\n",
    "positions = []  \n",
    "success_history = []  \n",
    "failure_history = []  \n",
    "\n",
    "#布林通道顺势策略\n",
    "\n",
    "for i in range(21, df.shape[0]):\n",
    "    if crypto == 0 and df[\"Close\"].iloc[i-1] > df[\"upband\"].iloc[i-1] and i != df.shape[0] - 1:     # 1.突破上轨线，建仓\n",
    "\n",
    "        price = (df[\"Close\"].iloc[i] + df[\"Open\"].iloc[i]) / 2.0\n",
    "        crypto = np.round(money[-1]*(1.0 - fees)/ price, 4)\n",
    "        crypto_value += [crypto*df[\"Close\"].iloc[i]]\n",
    "        money += [0]\n",
    "        positions += [{ \"date\": df.Date.iloc[i], \"price\": price}]\n",
    "        \n",
    "    elif crypto == 0:                                                                    # 2.空仓不动\n",
    "        money += [money[-1]]\n",
    "        crypto_value += [0]\n",
    "            \n",
    "    elif crypto > 0 and (df[\"Close\"].iloc[i-1] < df[\"downband\"].iloc[i-1] or i == df.shape[0] - 1 ):   # 3.突破下轨线，清仓       \n",
    "        \n",
    "        price = (df[\"Close\"].iloc[i] + df[\"Open\"].iloc[i]) / 2.0\n",
    "        money += [crypto * price *(1-fees)]\n",
    "        crypto = 0\n",
    "        crypto_value +=[0]\n",
    "        \n",
    "        if positions[-1][\"price\"] < price:\n",
    "            success_history += [\n",
    "                {\n",
    "                    \"date\": [positions[-1][\"date\"], df.Date.iloc[i]],\n",
    "                    \"price\": [positions[-1][\"price\"], price],\n",
    "                }\n",
    "            ]\n",
    "        else:\n",
    "            failure_history += [\n",
    "                {\n",
    "                    \"date\": [positions[-1][\"date\"], df.Date.iloc[i]],\n",
    "                    \"price\": [positions[-1][\"price\"], price],\n",
    "                }\n",
    "            ]\n",
    "        positions = []\n",
    "\n",
    "    elif crypto > 0:                                                             # 4.持仓不动\n",
    "        money += [0]\n",
    "        crypto_value += [crypto * df[\"Close\"].iloc[i]]\n",
    "\n",
    "rtn1 = [np.round((crypto_value[i]+money[i])/money[0],4) for i in range(df.shape[0]-1)]\n"
   ]
  },
  {
   "cell_type": "code",
   "execution_count": 5,
   "id": "9c26d386",
   "metadata": {},
   "outputs": [],
   "source": [
    "money = [1000.0 for i in range(20)]  # initial money value in USDT\n",
    "crypto_value = [0 for i in range(20)]\n",
    "crypto = 0 \n",
    "fees = 0.001           # fees as 0.1%\n",
    "positions = []  \n",
    "success_history = []  \n",
    "failure_history = []  \n",
    "\n",
    "#布林通道逆势策略\n",
    "\n",
    "for i in range(21, df.shape[0]):\n",
    "    if crypto == 0 and df[\"Close\"].iloc[i-1] < df[\"downband\"].iloc[i-1] and i != df.shape[0] - 1:     # 1.突破下轨线，建仓\n",
    "\n",
    "        price = (df[\"Close\"].iloc[i] + df[\"Open\"].iloc[i]) / 2.0\n",
    "        crypto = np.round(money[-1]*(1.0 - fees)/ price, 4)\n",
    "        crypto_value += [crypto*df[\"Close\"].iloc[i]]\n",
    "        money += [0]\n",
    "        positions += [{ \"date\": df.Date.iloc[i], \"price\": price}]\n",
    "        \n",
    "    elif crypto == 0:                                                                    # 2.空仓不动\n",
    "        money += [money[-1]]\n",
    "        crypto_value += [0]\n",
    "            \n",
    "    elif crypto > 0 and (df[\"Close\"].iloc[i-1] > df[\"upband\"].iloc[i-1] or i == df.shape[0] - 1 ):   # 3.突破上轨线，清仓       \n",
    "        \n",
    "        price = (df[\"Close\"].iloc[i] + df[\"Open\"].iloc[i]) / 2.0\n",
    "        money += [crypto * price *(1-fees)]\n",
    "        crypto = 0\n",
    "        crypto_value +=[0]\n",
    "        \n",
    "        if positions[-1][\"price\"] < price:\n",
    "            success_history += [\n",
    "                {\n",
    "                    \"date\": [positions[-1][\"date\"], df.Date.iloc[i]],\n",
    "                    \"price\": [positions[-1][\"price\"], price],\n",
    "                }\n",
    "            ]\n",
    "        else:\n",
    "            failure_history += [\n",
    "                {\n",
    "                    \"date\": [positions[-1][\"date\"], df.Date.iloc[i]],\n",
    "                    \"price\": [positions[-1][\"price\"], price],\n",
    "                }\n",
    "            ]\n",
    "        positions = []\n",
    "\n",
    "    elif crypto > 0:                                                             # 4.持仓不动\n",
    "        money += [0]\n",
    "        crypto_value += [crypto * df[\"Close\"].iloc[i]]\n"
   ]
  },
  {
   "cell_type": "code",
   "execution_count": 6,
   "id": "26ee5462",
   "metadata": {},
   "outputs": [
    {
     "data": {
      "text/plain": [
       "'F:\\\\jupyter\\\\boll_compare.html'"
      ]
     },
     "execution_count": 6,
     "metadata": {},
     "output_type": "execute_result"
    }
   ],
   "source": [
    "attr=[str(t) for t in df.Date]\n",
    "rtn2 = [np.round((crypto_value[i]+money[i])/money[0],4) for i in range(df.shape[0]-1)]\n",
    "ben = [np.round(j/df.Close.iloc[0],4) for j in df.Close]\n",
    "\n",
    "line2 = (\n",
    "    Line()\n",
    "    .add_xaxis(attr)\n",
    "    .add_yaxis(\"rtn_boll_1\",rtn1 , is_smooth = True,)\n",
    "    .add_yaxis(\"rtn_boll_2\",rtn2 , is_smooth = True,)\n",
    "    .add_yaxis(\"ben\",ben , is_smooth = True,)\n",
    "    .set_global_opts(\n",
    "        xaxis_opts=opts.AxisOpts(is_scale=True),\n",
    "        yaxis_opts=opts.AxisOpts(\n",
    "            is_scale=True,\n",
    "            splitarea_opts=opts.SplitAreaOpts(\n",
    "                is_show=True, areastyle_opts=opts.AreaStyleOpts(opacity=1)\n",
    "            ),\n",
    "        ),\n",
    "        datazoom_opts=[opts.DataZoomOpts(pos_bottom=\"-2%\")],\n",
    "        title_opts=opts.TitleOpts(title=\"boll_compare\"),\n",
    "    ) \n",
    ")\n",
    "line2.render(\"boll_compare.html\")"
   ]
  }
 ],
 "metadata": {
  "kernelspec": {
   "display_name": "Python 3 (ipykernel)",
   "language": "python",
   "name": "python3"
  },
  "language_info": {
   "codemirror_mode": {
    "name": "ipython",
    "version": 3
   },
   "file_extension": ".py",
   "mimetype": "text/x-python",
   "name": "python",
   "nbconvert_exporter": "python",
   "pygments_lexer": "ipython3",
   "version": "3.9.7"
  }
 },
 "nbformat": 4,
 "nbformat_minor": 5
}
